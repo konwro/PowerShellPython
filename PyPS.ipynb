{
 "cells": [
  {
   "cell_type": "markdown",
   "metadata": {},
   "source": [
    "# Powershell scripts in Python in Notebook \n"
   ]
  },
  {
   "cell_type": "markdown",
   "metadata": {},
   "source": [
    "### Sources:\n",
    "- https://www.phillipsj.net/posts/executing-powershell-from-python/\n",
    "- https://www.markdownguide.org/cheat-sheet\n",
    "- https://www.phillipsj.net/posts/poshpy-easier-powershelling-from-python/\n",
    "- https://github.com/blueghostlabs/poshpy"
   ]
  },
  {
   "cell_type": "markdown",
   "metadata": {},
   "source": [
    "imports"
   ]
  },
  {
   "cell_type": "code",
   "execution_count": null,
   "metadata": {
    "scrolled": true
   },
   "outputs": [],
   "source": [
    "import poshpy"
   ]
  },
  {
   "cell_type": "markdown",
   "metadata": {},
   "source": [
    "define runPS method"
   ]
  },
  {
   "cell_type": "code",
   "execution_count": null,
   "metadata": {
    "scrolled": true
   },
   "outputs": [],
   "source": [
    "def runPS(cmd):\n",
    "    complete = poshpy.execute_command(cmd)\n",
    "    return complete"
   ]
  },
  {
   "cell_type": "markdown",
   "metadata": {},
   "source": [
    "PS command to execute"
   ]
  },
  {
   "cell_type": "code",
   "execution_count": null,
   "metadata": {
    "scrolled": true
   },
   "outputs": [],
   "source": [
    "cmd = \"\"\"\n",
    "$src = Get-Content input.txt\n",
    "$src = $src.replace(\"http\",\"hxxp\");\n",
    "$ext = \"Extra line\";\n",
    "$src += $ext;\n",
    "$src > output.txt\n",
    "notepad output.txt\n",
    "\"\"\""
   ]
  },
  {
   "cell_type": "markdown",
   "metadata": {},
   "source": [
    "execute"
   ]
  },
  {
   "cell_type": "code",
   "execution_count": null,
   "metadata": {
    "scrolled": true
   },
   "outputs": [],
   "source": [
    "runPS(cmd)"
   ]
  }
 ],
 "metadata": {
  "kernelspec": {
   "display_name": "Python 3",
   "language": "python",
   "name": "python3"
  },
  "language_info": {
   "codemirror_mode": {
    "name": "ipython",
    "version": 3
   },
   "file_extension": ".py",
   "mimetype": "text/x-python",
   "name": "python",
   "nbconvert_exporter": "python",
   "pygments_lexer": "ipython3",
   "version": "3.8.5"
  }
 },
 "nbformat": 4,
 "nbformat_minor": 4
}
